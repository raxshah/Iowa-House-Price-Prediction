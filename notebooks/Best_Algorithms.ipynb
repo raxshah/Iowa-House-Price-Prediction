{
 "cells": [
  {
   "cell_type": "code",
   "execution_count": 8,
   "metadata": {
    "collapsed": false
   },
   "outputs": [],
   "source": [
    "import pandas as pd\n",
    "import numpy as np\n",
    "import pickle\n",
    "from sklearn.ensemble import BaggingRegressor\n",
    "from sklearn.ensemble import GradientBoostingRegressor\n",
    "from sklearn.model_selection import train_test_split\n",
    "from sklearn.metrics import mean_squared_error\n",
    "from sklearn.model_selection import cross_val_score\n",
    "import warnings\n",
    "warnings.filterwarnings(\"ignore\")"
   ]
  },
  {
   "cell_type": "code",
   "execution_count": 9,
   "metadata": {
    "collapsed": true
   },
   "outputs": [],
   "source": [
    "def rmse(true,predicted):\n",
    "    return np.sqrt(mean_squared_error(true,predicted))"
   ]
  },
  {
   "cell_type": "code",
   "execution_count": 10,
   "metadata": {
    "collapsed": false
   },
   "outputs": [],
   "source": [
    "train = pickle.load(open(\"../pickles/train_data.p\",'rb'))\n",
    "test = pickle.load(open(\"../pickles/test_data.p\",'rb'))\n",
    "target = pickle.load(open(\"../pickles/target.p\",'rb'))\n",
    "test_id = pd.read_csv(\"input/test.csv\",header=0,usecols=[\"Id\"])"
   ]
  },
  {
   "cell_type": "code",
   "execution_count": 11,
   "metadata": {
    "collapsed": false
   },
   "outputs": [
    {
     "name": "stdout",
     "output_type": "stream",
     "text": [
      "(1456, 248)\n",
      "(1459, 248)\n"
     ]
    }
   ],
   "source": [
    "print(train.shape)\n",
    "print(test.shape)"
   ]
  },
  {
   "cell_type": "code",
   "execution_count": 12,
   "metadata": {
    "collapsed": false
   },
   "outputs": [
    {
     "name": "stdout",
     "output_type": "stream",
     "text": [
      "(1092, 248)\n",
      "(364, 248)\n",
      "(1092,)\n",
      "(364,)\n"
     ]
    }
   ],
   "source": [
    "x_train,x_val,y_train,y_val = train_test_split(train,target,random_state = 0)\n",
    "print(x_train.shape)\n",
    "print(x_val.shape)\n",
    "print(y_train.shape)\n",
    "print(y_val.shape)"
   ]
  },
  {
   "cell_type": "code",
   "execution_count": 23,
   "metadata": {
    "collapsed": false
   },
   "outputs": [
    {
     "name": "stdout",
     "output_type": "stream",
     "text": [
      "27521.1138032\n",
      "Bagging Root Mean Square Error :  26225.3588929\n",
      "23843.6013581\n",
      "Gradient Boosting Root Mean Square Error:  24399.2118892\n",
      "Bagging and Boosting Combination Root Mean Square Error :  24162.1189024\n"
     ]
    }
   ],
   "source": [
    "## Baggin Regressor \n",
    "bagging_regression = BaggingRegressor()\n",
    "print(np.sqrt(abs(cross_val_score(bagging_regression,train,target,scoring='neg_mean_squared_error',cv=5).mean())))\n",
    "bagging_regression = bagging_regression.fit(x_train,y_train)\n",
    "predicted = bagging_regression.predict(x_val)\n",
    "bagging_rmse = rmse(y_val,predicted)\n",
    "print(\"Bagging Root Mean Square Error : \",bagging_rmse)\n",
    "\n",
    "## Boosting Regressor\n",
    "gradient_boosting = GradientBoostingRegressor(max_depth=5,learning_rate=0.09)\n",
    "print(np.sqrt(abs(cross_val_score(gradient_boosting,train,target,scoring='neg_mean_squared_error',cv=5).mean())))\n",
    "gradient_boosting = gradient_boosting.fit(x_train,y_train)\n",
    "predicted_boosting = gradient_boosting.predict(x_val)\n",
    "gradient_rmse = rmse(y_val,predicted_boosting)\n",
    "print(\"Gradient Boosting Root Mean Square Error: \",gradient_rmse)\n",
    "\n",
    "## Combined algorithm\n",
    "combined = (predicted + predicted_boosting)/2\n",
    "combined_rmse = rmse(y_val,combined)\n",
    "print(\"Bagging and Boosting Combination Root Mean Square Error : \",combined_rmse)\n",
    "\n",
    "## Prediction on Test Dataset\n",
    "predicted_bagging = bagging_regression.predict(test)\n",
    "predicted_boosting = gradient_boosting.predict(test)\n",
    "combination = (predicted_bagging + predicted_boosting)/2\n",
    "\n",
    "final = pd.DataFrame()\n",
    "final[\"Id\"] = test_id\n",
    "final[\"SalePrice\"] = combination\n",
    "final.to_csv(\"../results/final_combined.csv\",index=False)"
   ]
  },
  {
   "cell_type": "code",
   "execution_count": 13,
   "metadata": {
    "collapsed": true
   },
   "outputs": [],
   "source": []
  },
  {
   "cell_type": "code",
   "execution_count": 22,
   "metadata": {
    "collapsed": false
   },
   "outputs": [
    {
     "data": {
      "text/plain": [
       "27713.867167659046"
      ]
     },
     "execution_count": 22,
     "metadata": {},
     "output_type": "execute_result"
    }
   ],
   "source": []
  },
  {
   "cell_type": "code",
   "execution_count": 20,
   "metadata": {
    "collapsed": false
   },
   "outputs": [
    {
     "data": {
      "text/plain": [
       "25094.29674909293"
      ]
     },
     "execution_count": 20,
     "metadata": {},
     "output_type": "execute_result"
    }
   ],
   "source": []
  },
  {
   "cell_type": "code",
   "execution_count": null,
   "metadata": {
    "collapsed": true
   },
   "outputs": [],
   "source": []
  }
 ],
 "metadata": {
  "anaconda-cloud": {},
  "kernelspec": {
   "display_name": "Python [conda root]",
   "language": "python",
   "name": "conda-root-py"
  },
  "language_info": {
   "codemirror_mode": {
    "name": "ipython",
    "version": 3
   },
   "file_extension": ".py",
   "mimetype": "text/x-python",
   "name": "python",
   "nbconvert_exporter": "python",
   "pygments_lexer": "ipython3",
   "version": "3.5.2"
  }
 },
 "nbformat": 4,
 "nbformat_minor": 1
}
