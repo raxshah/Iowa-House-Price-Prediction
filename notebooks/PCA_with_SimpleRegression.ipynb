{
 "cells": [
  {
   "cell_type": "code",
   "execution_count": 70,
   "metadata": {
    "collapsed": true
   },
   "outputs": [],
   "source": [
    "import pandas as pd\n",
    "import pickle\n",
    "import seaborn as sns\n",
    "import numpy as np\n",
    "%matplotlib inline"
   ]
  },
  {
   "cell_type": "code",
   "execution_count": 71,
   "metadata": {
    "collapsed": false
   },
   "outputs": [
    {
     "name": "stdout",
     "output_type": "stream",
     "text": [
      "(1456, 248)\n"
     ]
    }
   ],
   "source": [
    "train = pickle.load(open(\"../pickles/train_data.p\",'rb'))\n",
    "test = pickle.load(open(\"../pickles/test_data.p\",'rb'))\n",
    "target = pickle.load(open(\"../pickles/target.p\",'rb'))\n",
    "test_id = pd.read_csv(\"input/test.csv\",usecols=[\"Id\"])\n",
    "\n",
    "print(train.shape)"
   ]
  },
  {
   "cell_type": "code",
   "execution_count": 72,
   "metadata": {
    "collapsed": true
   },
   "outputs": [],
   "source": [
    "from sklearn.decomposition import PCA"
   ]
  },
  {
   "cell_type": "code",
   "execution_count": 73,
   "metadata": {
    "collapsed": false
   },
   "outputs": [
    {
     "data": {
      "text/plain": [
       "<matplotlib.text.Text at 0x11f850080>"
      ]
     },
     "execution_count": 73,
     "metadata": {},
     "output_type": "execute_result"
    },
    {
     "data": {
      "image/png": "[encoded data removed]",
      "text/plain": [
       "<matplotlib.figure.Figure at 0x118d6edd8>"
      ]
     },
     "metadata": {},
     "output_type": "display_data"
    }
   ],
   "source": [
    "pca = PCA()\n",
    "pca.fit(train)\n",
    "train = pca.transform(train)\n",
    "train = pd.DataFrame(train)\n",
    "train = train.iloc[:,0:10]\n",
    "test_transformed = pca.transform(test)\n",
    "test_transformed = pd.DataFrame(test_transformed)\n",
    "test_transformed =  new_test.iloc[:,0:10]\n",
    "sns.barplot(list(range(pca.explained_variance_.shape[0])),np.log1p(pca.explained_variance_))\n",
    "sns.plt.xlim(0,10)\n",
    "sns.plt.xlabel(\"Principal Component\")\n",
    "sns.plt.ylabel(\"Variance\")\n",
    "sns.plt.title(\"Principal Component Analysis\")"
   ]
  },
  {
   "cell_type": "code",
   "execution_count": 74,
   "metadata": {
    "collapsed": false
   },
   "outputs": [],
   "source": [
    "from sklearn.linear_model import LinearRegression\n",
    "model = LinearRegression()\n",
    "model = model.fit(train,target)\n",
    "predict =  model.predict(test_transformed)\n",
    "final = pd.DataFrame()\n",
    "final[\"Id\"] = test_id\n",
    "final[\"SalePrice\"] = abs(predict)\n",
    "final.to_csv(\"../results/pca.csv\",index=False)"
   ]
  },
  {
   "cell_type": "code",
   "execution_count": null,
   "metadata": {
    "collapsed": true
   },
   "outputs": [],
   "source": []
  }
 ],
 "metadata": {
  "anaconda-cloud": {},
  "kernelspec": {
   "display_name": "Python [conda root]",
   "language": "python",
   "name": "conda-root-py"
  },
  "language_info": {
   "codemirror_mode": {
    "name": "ipython",
    "version": 3
   },
   "file_extension": ".py",
   "mimetype": "text/x-python",
   "name": "python",
   "nbconvert_exporter": "python",
   "pygments_lexer": "ipython3",
   "version": "3.5.2"
  }
 },
 "nbformat": 4,
 "nbformat_minor": 1
}
